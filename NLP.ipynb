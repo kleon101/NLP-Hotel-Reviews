{
 "cells": [
  {
   "cell_type": "markdown",
   "id": "d1aaa603",
   "metadata": {},
   "source": [
    "\n",
    "\n",
    "Comprises 5 main tasks: Data Exploration, Data Preprocessing, Model Training, Model Evaluation, and Model Analysis. You will analyze and compare two different representations, Bag of Words (BOW) and Term Frequency-Inverse Document Frequency (TF-IDF). Additionally, you will address and compare two tasks: sentiment analysis and rating prediction.\n",
    "\n",
    "\n",
    "The dataset you will work with in this assignment comprises text reviews about various hotels, extracted from Tripadvisor, along with their corresponding ratings.\n"
   ]
  },
  {
   "cell_type": "markdown",
   "id": "d693423b",
   "metadata": {},
   "source": [
    "## Task 1: Data Exploration\n"
   ]
  },
  {
   "cell_type": "markdown",
   "id": "562d2289",
   "metadata": {},
   "source": [
    "\n",
    "\n",
    "\n",
    "1. Load the dataset from the file \"hotel_reviews.csv\". How many records does the dataset contain? How many distinct classes are there in the dataset?\n"
   ]
  },
  {
   "cell_type": "code",
   "execution_count": 1,
   "id": "797f6daa",
   "metadata": {},
   "outputs": [],
   "source": [
    "import pandas as pd\n",
    "import warnings\n",
    "import numpy as np\n",
    "warnings.filterwarnings('ignore')"
   ]
  },
  {
   "cell_type": "code",
   "execution_count": 2,
   "id": "3c359a67",
   "metadata": {},
   "outputs": [
    {
     "data": {
      "text/plain": [
       "Review    20491\n",
       "Rating    20491\n",
       "dtype: int64"
      ]
     },
     "execution_count": 2,
     "metadata": {},
     "output_type": "execute_result"
    }
   ],
   "source": [
    "# Provide your answers here\n",
    "\n",
    "# load the data\n",
    "ratings_data = pd.read_csv(\"Ratings.csv\")\n",
    "\n",
    "# Display the total number of Records in the dataset.\n",
    "ratings_data.count()"
   ]
  },
  {
   "cell_type": "code",
   "execution_count": 3,
   "id": "fd497ad9",
   "metadata": {},
   "outputs": [
    {
     "data": {
      "text/plain": [
       "Index(['Review', 'Rating'], dtype='object')"
      ]
     },
     "execution_count": 3,
     "metadata": {},
     "output_type": "execute_result"
    }
   ],
   "source": [
    "ratings_data.columns"
   ]
  },
  {
   "cell_type": "code",
   "execution_count": 4,
   "id": "fc52d118",
   "metadata": {},
   "outputs": [
    {
     "data": {
      "text/plain": [
       "Rating\n",
       "5    9054\n",
       "4    6039\n",
       "3    2184\n",
       "2    1793\n",
       "1    1421\n",
       "Name: count, dtype: int64"
      ]
     },
     "execution_count": 4,
     "metadata": {},
     "output_type": "execute_result"
    }
   ],
   "source": [
    "# Display the distinct classes in the dataset.\n",
    "ratings_data['Rating'].value_counts()"
   ]
  },
  {
   "cell_type": "markdown",
   "id": "40ecae99",
   "metadata": {},
   "source": [
    "2. Determine the top 10 most frequently used words in the dataset. To support your answer, create a bar plot where the x-axis represents words, and the y-axis represents the frequency of each word appearing in the entire dataset.\n"
   ]
  },
  {
   "cell_type": "code",
   "execution_count": 5,
   "id": "1ebd7e32",
   "metadata": {},
   "outputs": [],
   "source": [
    "\n",
    "from collections import Counter\n",
    "import matplotlib.pyplot as plt"
   ]
  },
  {
   "cell_type": "code",
   "execution_count": 6,
   "id": "d8dce0fa",
   "metadata": {},
   "outputs": [],
   "source": [
    "# Provide your answers here\n",
    "\n",
    "review_text = \" \".join(ratings_data['Review'])\n",
    "\n",
    "text_words = review_text.split()\n",
    "\n",
    "word_count = Counter(text_words)\n",
    "\n",
    "top_10_words = word_count.most_common(10)\n",
    "\n",
    "words, freq = zip(*top_10_words)"
   ]
  },
  {
   "cell_type": "code",
   "execution_count": 7,
   "id": "6f76ab79",
   "metadata": {},
   "outputs": [
    {
     "data": {
      "text/plain": [
       "[('hotel', 42079),\n",
       " ('not', 30750),\n",
       " ('room', 30532),\n",
       " ('great', 18732),\n",
       " (\"n't\", 18436),\n",
       " ('staff', 14950),\n",
       " ('good', 14791),\n",
       " ('did', 13433),\n",
       " ('just', 12458),\n",
       " ('stay', 11376)]"
      ]
     },
     "execution_count": 7,
     "metadata": {},
     "output_type": "execute_result"
    }
   ],
   "source": [
    "top_10_words"
   ]
  },
  {
   "cell_type": "code",
   "execution_count": 8,
   "id": "836baeaa",
   "metadata": {},
   "outputs": [
    {
     "data": {
      "text/plain": [
       "Text(0.5, 1.0, 'Simple Bar Plot')"
      ]
     },
     "execution_count": 8,
     "metadata": {},
     "output_type": "execute_result"
    },
    {
     "data": {
      "image/png": "[encoded data removed]",
      "text/plain": [
       "<Figure size 640x480 with 1 Axes>"
      ]
     },
     "metadata": {},
     "output_type": "display_data"
    }
   ],
   "source": [
    "# Bar plot to display the top 10 most frequent words\n",
    "plt.bar(words, freq)\n",
    "plt.xlabel(\"Categories\")\n",
    "plt.ylabel(\"Values\")\n",
    "plt.title(\"Simple Bar Plot\")"
   ]
  },
  {
   "cell_type": "markdown",
   "id": "b5d68460",
   "metadata": {},
   "source": [
    "\n",
    "\n",
    "3. Among the top 10 most frequently used words, identify if there are any stop words included. If we exclude the stop words, would the top 10 most frequent words change? Create another bar plot similar to Question 2, but this time with the stop words removed to illustrate the updated top 10 most frequent words."
   ]
  },
  {
   "cell_type": "code",
   "execution_count": 9,
   "id": "254d3813",
   "metadata": {},
   "outputs": [
    {
     "name": "stderr",
     "output_type": "stream",
     "text": [
      "[nltk_data] Downloading package stopwords to\n",
      "[nltk_data]     /home/s4698443/nltk_data...\n",
      "[nltk_data]   Package stopwords is already up-to-date!\n",
      "[nltk_data] Downloading package omw-1.4 to /home/s4698443/nltk_data...\n",
      "[nltk_data]   Package omw-1.4 is already up-to-date!\n",
      "[nltk_data] Downloading package wordnet to /home/s4698443/nltk_data...\n",
      "[nltk_data]   Package wordnet is already up-to-date!\n"
     ]
    },
    {
     "data": {
      "text/plain": [
       "True"
      ]
     },
     "execution_count": 9,
     "metadata": {},
     "output_type": "execute_result"
    }
   ],
   "source": [
    "from nltk.corpus import stopwords\n",
    "import nltk\n",
    "\n",
    "nltk.download('stopwords')\n",
    "nltk.download('omw-1.4')\n",
    "nltk.download('wordnet')\n"
   ]
  },
  {
   "cell_type": "code",
   "execution_count": 10,
   "id": "7c5679f5",
   "metadata": {},
   "outputs": [],
   "source": [
    "# Provide your answers here\n",
    "stop_words = stopwords.words('english')\n",
    "\n",
    "common_words = list(set(stop_words) & set(words))\n",
    "\n",
    "words_list = [word for word in text_words if word not in common_words]\n",
    "\n",
    "words_count = Counter(words_list)"
   ]
  },
  {
   "cell_type": "code",
   "execution_count": 11,
   "id": "e1019749",
   "metadata": {},
   "outputs": [],
   "source": [
    "new_top_10_words = words_count.most_common(10)\n",
    "\n",
    "words, freq = zip(*new_top_10_words)"
   ]
  },
  {
   "cell_type": "code",
   "execution_count": 12,
   "id": "9e180ccd",
   "metadata": {},
   "outputs": [
    {
     "data": {
      "text/plain": [
       "[('hotel', 42079),\n",
       " ('room', 30532),\n",
       " ('great', 18732),\n",
       " (\"n't\", 18436),\n",
       " ('staff', 14950),\n",
       " ('good', 14791),\n",
       " ('stay', 11376),\n",
       " ('no', 11360),\n",
       " ('rooms', 10935),\n",
       " ('nice', 10918)]"
      ]
     },
     "execution_count": 12,
     "metadata": {},
     "output_type": "execute_result"
    }
   ],
   "source": [
    "new_top_10_words"
   ]
  },
  {
   "cell_type": "code",
   "execution_count": 13,
   "id": "29067a99",
   "metadata": {},
   "outputs": [
    {
     "data": {
      "text/plain": [
       "Text(0.5, 1.0, 'Bar Plot for new Top 10 words')"
      ]
     },
     "execution_count": 13,
     "metadata": {},
     "output_type": "execute_result"
    },
    {
     "data": {
      "image/png": "[encoded data removed]",
      "text/plain": [
       "<Figure size 640x480 with 1 Axes>"
      ]
     },
     "metadata": {},
     "output_type": "display_data"
    }
   ],
   "source": [
    "# Bar plot to display the new top 10 most frequent words\n",
    "plt.bar(words, freq)\n",
    "plt.xlabel(\"Categories\")\n",
    "plt.ylabel(\"Values\")\n",
    "plt.title(\"Bar Plot for new Top 10 words\")"
   ]
  },
  {
   "cell_type": "markdown",
   "id": "c66c6232",
   "metadata": {},
   "source": [
    "## Task 2: Data Preprocessing\n",
    "\n",
    "- Use the provided \"clean_data\" function to remove unnecessary symbols and clean the dataset.\n",
    "\n"
   ]
  },
  {
   "cell_type": "code",
   "execution_count": 14,
   "id": "18e84d29",
   "metadata": {},
   "outputs": [],
   "source": [
    "import re\n",
    "\n",
    "def clean_data(text):\n",
    "    \n",
    "    # Format words and remove unwanted characters\n",
    "    text = re.sub(r'https?:\\/\\/.*[\\r\\n]*', '', text, flags=re.MULTILINE)\n",
    "    text = re.sub(r'\\<a href', ' ', text)\n",
    "    text = re.sub(r'&amp;', '', text) \n",
    "    text = re.sub(r'[_\"\\-;%()|+&=*%.,!?:#$@\\[\\]/]', ' ', text)\n",
    "    text = re.sub(r'<br />', ' ', text)\n",
    "    text = re.sub(r'br', ' ', text)\n",
    "    text = re.sub(r'\\'', ' ', text)\n",
    "    \n",
    "\n",
    "    return text"
   ]
  },
  {
   "cell_type": "code",
   "execution_count": 15,
   "id": "5311b4cd",
   "metadata": {},
   "outputs": [],
   "source": [
    "# Provide your answers here\n",
    "ratings_data[\"Review\"] = ratings_data[\"Review\"].apply(clean_data)"
   ]
  },
  {
   "cell_type": "markdown",
   "id": "5334f4bc",
   "metadata": {},
   "source": [
    "- Split the clean dataset into separate train and test sets. For this, use the \"Review\" field as the feature vector (X) and the \"Rating\" field as the label vector (Y)."
   ]
  },
  {
   "cell_type": "code",
   "execution_count": 16,
   "id": "e2b74af8",
   "metadata": {},
   "outputs": [],
   "source": [
    "import numpy as np\n",
    "from sklearn.model_selection import train_test_split\n",
    "\n",
    "# define random state to make random processes reproducible\n",
    "random_state = np.random.RandomState(0)"
   ]
  },
  {
   "cell_type": "code",
   "execution_count": 17,
   "id": "f21e0206",
   "metadata": {},
   "outputs": [],
   "source": [
    "# Provide your answers here\n",
    "# Define X(features) and y(target)\n",
    "X = ratings_data[\"Review\"]\n",
    "y = ratings_data[\"Rating\"]\n",
    "\n",
    "\n",
    "X_train, X_test, y_train, y_test = train_test_split(X, y, test_size=0.3, shuffle=True, random_state=random_state)"
   ]
  },
  {
   "cell_type": "markdown",
   "id": "f5cb5069",
   "metadata": {},
   "source": [
    "- Create an additional binary label by assigning ‘1’ – positive for the product ratings 4 and 5; and \"–1\" for product ratings 1, 2 and 3. Store it in y_train_binary and y_test_binary. \n",
    "\n",
    "*Tip: you can use a function copy.deepcopy for creating a copy of label variables*"
   ]
  },
  {
   "cell_type": "code",
   "execution_count": 18,
   "id": "ea7fe3f2",
   "metadata": {},
   "outputs": [],
   "source": [
    "import copy"
   ]
  },
  {
   "cell_type": "code",
   "execution_count": 19,
   "id": "a1c3f189",
   "metadata": {},
   "outputs": [],
   "source": [
    "# Provide your answers here\n",
    "y_train_binary = copy.deepcopy(y_train)\n",
    "y_test_binary = copy.deepcopy(y_test)\n",
    "\n",
    "label_map = {True: 1, False: -1}\n",
    "\n",
    "y_train_binary = y_train_binary.isin([4, 5]).map(label_map)\n",
    "y_test_binary = y_test_binary.isin([4, 5]).map(label_map)"
   ]
  },
  {
   "cell_type": "markdown",
   "id": "41f40611",
   "metadata": {},
   "source": [
    "\n",
    "- Transform the cleaned data into a numerical representation using Bag of Words (BoW) and remove any stop words. Save the BoW representation in the variables train_data_BOW and test_data_BOW."
   ]
  },
  {
   "cell_type": "code",
   "execution_count": 20,
   "id": "a452febc",
   "metadata": {},
   "outputs": [
    {
     "data": {
      "text/html": [
       "<div>\n",
       "<style scoped>\n",
       "    .dataframe tbody tr th:only-of-type {\n",
       "        vertical-align: middle;\n",
       "    }\n",
       "\n",
       "    .dataframe tbody tr th {\n",
       "        vertical-align: top;\n",
       "    }\n",
       "\n",
       "    .dataframe thead th {\n",
       "        text-align: right;\n",
       "    }\n",
       "</style>\n",
       "<table border=\"1\" class=\"dataframe\">\n",
       "  <thead>\n",
       "    <tr style=\"text-align: right;\">\n",
       "      <th></th>\n",
       "      <th>0</th>\n",
       "      <th>1</th>\n",
       "      <th>2</th>\n",
       "      <th>3</th>\n",
       "      <th>4</th>\n",
       "      <th>5</th>\n",
       "      <th>6</th>\n",
       "      <th>7</th>\n",
       "      <th>8</th>\n",
       "      <th>9</th>\n",
       "      <th>...</th>\n",
       "      <th>14333</th>\n",
       "      <th>14334</th>\n",
       "      <th>14335</th>\n",
       "      <th>14336</th>\n",
       "      <th>14337</th>\n",
       "      <th>14338</th>\n",
       "      <th>14339</th>\n",
       "      <th>14340</th>\n",
       "      <th>14341</th>\n",
       "      <th>14342</th>\n",
       "    </tr>\n",
       "  </thead>\n",
       "  <tbody>\n",
       "    <tr>\n",
       "      <th>00</th>\n",
       "      <td>0</td>\n",
       "      <td>0</td>\n",
       "      <td>0</td>\n",
       "      <td>0</td>\n",
       "      <td>0</td>\n",
       "      <td>0</td>\n",
       "      <td>0</td>\n",
       "      <td>0</td>\n",
       "      <td>0</td>\n",
       "      <td>0</td>\n",
       "      <td>...</td>\n",
       "      <td>0</td>\n",
       "      <td>0</td>\n",
       "      <td>0</td>\n",
       "      <td>0</td>\n",
       "      <td>0</td>\n",
       "      <td>0</td>\n",
       "      <td>0</td>\n",
       "      <td>0</td>\n",
       "      <td>0</td>\n",
       "      <td>0</td>\n",
       "    </tr>\n",
       "    <tr>\n",
       "      <th>10</th>\n",
       "      <td>1</td>\n",
       "      <td>0</td>\n",
       "      <td>0</td>\n",
       "      <td>0</td>\n",
       "      <td>0</td>\n",
       "      <td>0</td>\n",
       "      <td>0</td>\n",
       "      <td>0</td>\n",
       "      <td>0</td>\n",
       "      <td>0</td>\n",
       "      <td>...</td>\n",
       "      <td>0</td>\n",
       "      <td>0</td>\n",
       "      <td>0</td>\n",
       "      <td>0</td>\n",
       "      <td>0</td>\n",
       "      <td>0</td>\n",
       "      <td>0</td>\n",
       "      <td>0</td>\n",
       "      <td>0</td>\n",
       "      <td>0</td>\n",
       "    </tr>\n",
       "    <tr>\n",
       "      <th>100</th>\n",
       "      <td>0</td>\n",
       "      <td>0</td>\n",
       "      <td>0</td>\n",
       "      <td>0</td>\n",
       "      <td>0</td>\n",
       "      <td>0</td>\n",
       "      <td>0</td>\n",
       "      <td>0</td>\n",
       "      <td>0</td>\n",
       "      <td>0</td>\n",
       "      <td>...</td>\n",
       "      <td>0</td>\n",
       "      <td>0</td>\n",
       "      <td>0</td>\n",
       "      <td>0</td>\n",
       "      <td>0</td>\n",
       "      <td>0</td>\n",
       "      <td>0</td>\n",
       "      <td>0</td>\n",
       "      <td>0</td>\n",
       "      <td>0</td>\n",
       "    </tr>\n",
       "    <tr>\n",
       "      <th>11</th>\n",
       "      <td>0</td>\n",
       "      <td>0</td>\n",
       "      <td>0</td>\n",
       "      <td>0</td>\n",
       "      <td>0</td>\n",
       "      <td>0</td>\n",
       "      <td>0</td>\n",
       "      <td>0</td>\n",
       "      <td>0</td>\n",
       "      <td>0</td>\n",
       "      <td>...</td>\n",
       "      <td>0</td>\n",
       "      <td>0</td>\n",
       "      <td>0</td>\n",
       "      <td>0</td>\n",
       "      <td>0</td>\n",
       "      <td>0</td>\n",
       "      <td>0</td>\n",
       "      <td>0</td>\n",
       "      <td>0</td>\n",
       "      <td>1</td>\n",
       "    </tr>\n",
       "    <tr>\n",
       "      <th>12</th>\n",
       "      <td>0</td>\n",
       "      <td>0</td>\n",
       "      <td>0</td>\n",
       "      <td>0</td>\n",
       "      <td>0</td>\n",
       "      <td>0</td>\n",
       "      <td>0</td>\n",
       "      <td>0</td>\n",
       "      <td>0</td>\n",
       "      <td>0</td>\n",
       "      <td>...</td>\n",
       "      <td>0</td>\n",
       "      <td>0</td>\n",
       "      <td>0</td>\n",
       "      <td>0</td>\n",
       "      <td>0</td>\n",
       "      <td>0</td>\n",
       "      <td>0</td>\n",
       "      <td>0</td>\n",
       "      <td>0</td>\n",
       "      <td>0</td>\n",
       "    </tr>\n",
       "  </tbody>\n",
       "</table>\n",
       "<p>5 rows × 14343 columns</p>\n",
       "</div>"
      ],
      "text/plain": [
       "     0      1      2      3      4      5      6      7      8      9      \\\n",
       "00       0      0      0      0      0      0      0      0      0      0   \n",
       "10       1      0      0      0      0      0      0      0      0      0   \n",
       "100      0      0      0      0      0      0      0      0      0      0   \n",
       "11       0      0      0      0      0      0      0      0      0      0   \n",
       "12       0      0      0      0      0      0      0      0      0      0   \n",
       "\n",
       "     ...  14333  14334  14335  14336  14337  14338  14339  14340  14341  14342  \n",
       "00   ...      0      0      0      0      0      0      0      0      0      0  \n",
       "10   ...      0      0      0      0      0      0      0      0      0      0  \n",
       "100  ...      0      0      0      0      0      0      0      0      0      0  \n",
       "11   ...      0      0      0      0      0      0      0      0      0      1  \n",
       "12   ...      0      0      0      0      0      0      0      0      0      0  \n",
       "\n",
       "[5 rows x 14343 columns]"
      ]
     },
     "execution_count": 20,
     "metadata": {},
     "output_type": "execute_result"
    }
   ],
   "source": [
    "from sklearn.feature_extraction.text import CountVectorizer\n",
    "\n",
    "# Provide your answers here\n",
    "# define CountVectorizer object\n",
    "# min_df=0.01 means words that belong to only 1% of the all tweets will be excluded in the BOW\n",
    "vectorizer = CountVectorizer(stop_words=stopwords.words('english'), min_df=0.01)\n",
    "\n",
    "# fit the vectorizer object to train data\n",
    "vectorizer.fit(X_train)\n",
    "\n",
    "# get the BOW for train data\n",
    "X_train_BOW = vectorizer.transform(X_train)\n",
    "\n",
    "# visualize BOW\n",
    "train_data_BOW = pd.DataFrame(data=X_train_BOW.toarray(), columns=vectorizer.get_feature_names_out()).T\n",
    "\n",
    "# get the BOW for test data\n",
    "X_test_BOW = vectorizer.transform(X_test)\n",
    "\n",
    "# visualize BOW\n",
    "test_data_BOW = pd.DataFrame(data=X_test_BOW.toarray(), columns=vectorizer.get_feature_names_out()).T\n",
    "\n",
    "# display the last few rows of the dataframe\n",
    "train_data_BOW.head(5)"
   ]
  },
  {
   "cell_type": "markdown",
   "id": "8090e881",
   "metadata": {},
   "source": [
    "- Create another numerical representation of the text using Term Frequency-Inverse Document Frequency (TfIdf) and remove the stop words. Save the TfIdf representation in the variables train_data_tfidf and test_data_tfidf."
   ]
  },
  {
   "cell_type": "code",
   "execution_count": 21,
   "id": "f63802c3",
   "metadata": {},
   "outputs": [
    {
     "data": {
      "text/html": [
       "<div>\n",
       "<style scoped>\n",
       "    .dataframe tbody tr th:only-of-type {\n",
       "        vertical-align: middle;\n",
       "    }\n",
       "\n",
       "    .dataframe tbody tr th {\n",
       "        vertical-align: top;\n",
       "    }\n",
       "\n",
       "    .dataframe thead th {\n",
       "        text-align: right;\n",
       "    }\n",
       "</style>\n",
       "<table border=\"1\" class=\"dataframe\">\n",
       "  <thead>\n",
       "    <tr style=\"text-align: right;\">\n",
       "      <th></th>\n",
       "      <th>0</th>\n",
       "      <th>1</th>\n",
       "      <th>2</th>\n",
       "      <th>3</th>\n",
       "      <th>4</th>\n",
       "      <th>5</th>\n",
       "      <th>6</th>\n",
       "      <th>7</th>\n",
       "      <th>8</th>\n",
       "      <th>9</th>\n",
       "      <th>...</th>\n",
       "      <th>14333</th>\n",
       "      <th>14334</th>\n",
       "      <th>14335</th>\n",
       "      <th>14336</th>\n",
       "      <th>14337</th>\n",
       "      <th>14338</th>\n",
       "      <th>14339</th>\n",
       "      <th>14340</th>\n",
       "      <th>14341</th>\n",
       "      <th>14342</th>\n",
       "    </tr>\n",
       "  </thead>\n",
       "  <tbody>\n",
       "    <tr>\n",
       "      <th>00</th>\n",
       "      <td>0.000000</td>\n",
       "      <td>0.0</td>\n",
       "      <td>0.0</td>\n",
       "      <td>0.0</td>\n",
       "      <td>0.0</td>\n",
       "      <td>0.0</td>\n",
       "      <td>0.0</td>\n",
       "      <td>0.0</td>\n",
       "      <td>0.0</td>\n",
       "      <td>0.0</td>\n",
       "      <td>...</td>\n",
       "      <td>0.0</td>\n",
       "      <td>0.0</td>\n",
       "      <td>0.0</td>\n",
       "      <td>0.0</td>\n",
       "      <td>0.0</td>\n",
       "      <td>0.0</td>\n",
       "      <td>0.0</td>\n",
       "      <td>0.0</td>\n",
       "      <td>0.0</td>\n",
       "      <td>0.000000</td>\n",
       "    </tr>\n",
       "    <tr>\n",
       "      <th>10</th>\n",
       "      <td>0.044204</td>\n",
       "      <td>0.0</td>\n",
       "      <td>0.0</td>\n",
       "      <td>0.0</td>\n",
       "      <td>0.0</td>\n",
       "      <td>0.0</td>\n",
       "      <td>0.0</td>\n",
       "      <td>0.0</td>\n",
       "      <td>0.0</td>\n",
       "      <td>0.0</td>\n",
       "      <td>...</td>\n",
       "      <td>0.0</td>\n",
       "      <td>0.0</td>\n",
       "      <td>0.0</td>\n",
       "      <td>0.0</td>\n",
       "      <td>0.0</td>\n",
       "      <td>0.0</td>\n",
       "      <td>0.0</td>\n",
       "      <td>0.0</td>\n",
       "      <td>0.0</td>\n",
       "      <td>0.000000</td>\n",
       "    </tr>\n",
       "    <tr>\n",
       "      <th>100</th>\n",
       "      <td>0.000000</td>\n",
       "      <td>0.0</td>\n",
       "      <td>0.0</td>\n",
       "      <td>0.0</td>\n",
       "      <td>0.0</td>\n",
       "      <td>0.0</td>\n",
       "      <td>0.0</td>\n",
       "      <td>0.0</td>\n",
       "      <td>0.0</td>\n",
       "      <td>0.0</td>\n",
       "      <td>...</td>\n",
       "      <td>0.0</td>\n",
       "      <td>0.0</td>\n",
       "      <td>0.0</td>\n",
       "      <td>0.0</td>\n",
       "      <td>0.0</td>\n",
       "      <td>0.0</td>\n",
       "      <td>0.0</td>\n",
       "      <td>0.0</td>\n",
       "      <td>0.0</td>\n",
       "      <td>0.000000</td>\n",
       "    </tr>\n",
       "    <tr>\n",
       "      <th>11</th>\n",
       "      <td>0.000000</td>\n",
       "      <td>0.0</td>\n",
       "      <td>0.0</td>\n",
       "      <td>0.0</td>\n",
       "      <td>0.0</td>\n",
       "      <td>0.0</td>\n",
       "      <td>0.0</td>\n",
       "      <td>0.0</td>\n",
       "      <td>0.0</td>\n",
       "      <td>0.0</td>\n",
       "      <td>...</td>\n",
       "      <td>0.0</td>\n",
       "      <td>0.0</td>\n",
       "      <td>0.0</td>\n",
       "      <td>0.0</td>\n",
       "      <td>0.0</td>\n",
       "      <td>0.0</td>\n",
       "      <td>0.0</td>\n",
       "      <td>0.0</td>\n",
       "      <td>0.0</td>\n",
       "      <td>0.044199</td>\n",
       "    </tr>\n",
       "    <tr>\n",
       "      <th>12</th>\n",
       "      <td>0.000000</td>\n",
       "      <td>0.0</td>\n",
       "      <td>0.0</td>\n",
       "      <td>0.0</td>\n",
       "      <td>0.0</td>\n",
       "      <td>0.0</td>\n",
       "      <td>0.0</td>\n",
       "      <td>0.0</td>\n",
       "      <td>0.0</td>\n",
       "      <td>0.0</td>\n",
       "      <td>...</td>\n",
       "      <td>0.0</td>\n",
       "      <td>0.0</td>\n",
       "      <td>0.0</td>\n",
       "      <td>0.0</td>\n",
       "      <td>0.0</td>\n",
       "      <td>0.0</td>\n",
       "      <td>0.0</td>\n",
       "      <td>0.0</td>\n",
       "      <td>0.0</td>\n",
       "      <td>0.000000</td>\n",
       "    </tr>\n",
       "  </tbody>\n",
       "</table>\n",
       "<p>5 rows × 14343 columns</p>\n",
       "</div>"
      ],
      "text/plain": [
       "        0      1      2      3      4      5      6      7      8      9      \\\n",
       "00   0.000000    0.0    0.0    0.0    0.0    0.0    0.0    0.0    0.0    0.0   \n",
       "10   0.044204    0.0    0.0    0.0    0.0    0.0    0.0    0.0    0.0    0.0   \n",
       "100  0.000000    0.0    0.0    0.0    0.0    0.0    0.0    0.0    0.0    0.0   \n",
       "11   0.000000    0.0    0.0    0.0    0.0    0.0    0.0    0.0    0.0    0.0   \n",
       "12   0.000000    0.0    0.0    0.0    0.0    0.0    0.0    0.0    0.0    0.0   \n",
       "\n",
       "     ...  14333  14334  14335  14336  14337  14338  14339  14340  14341  \\\n",
       "00   ...    0.0    0.0    0.0    0.0    0.0    0.0    0.0    0.0    0.0   \n",
       "10   ...    0.0    0.0    0.0    0.0    0.0    0.0    0.0    0.0    0.0   \n",
       "100  ...    0.0    0.0    0.0    0.0    0.0    0.0    0.0    0.0    0.0   \n",
       "11   ...    0.0    0.0    0.0    0.0    0.0    0.0    0.0    0.0    0.0   \n",
       "12   ...    0.0    0.0    0.0    0.0    0.0    0.0    0.0    0.0    0.0   \n",
       "\n",
       "        14342  \n",
       "00   0.000000  \n",
       "10   0.000000  \n",
       "100  0.000000  \n",
       "11   0.044199  \n",
       "12   0.000000  \n",
       "\n",
       "[5 rows x 14343 columns]"
      ]
     },
     "execution_count": 21,
     "metadata": {},
     "output_type": "execute_result"
    }
   ],
   "source": [
    "from sklearn.feature_extraction.text import TfidfVectorizer\n",
    "\n",
    "# Provide your answers here\n",
    "\n",
    "# min_df=0.01 means words that belong to only 1% of the all tweets will be excluded in the BOW\n",
    "vectorizer = TfidfVectorizer(stop_words=stopwords.words('english'), min_df=0.01)\n",
    "\n",
    "# fit the vectorizer object to train data\n",
    "vectorizer.fit(X_train)\n",
    "\n",
    "# get the Tfidf for train data\n",
    "X_train_tfidf = vectorizer.transform(X_train)\n",
    "\n",
    "# visualize Tfidf\n",
    "train_data_tfidf = pd.DataFrame(data=X_train_tfidf.toarray(), columns=vectorizer.get_feature_names_out()).T\n",
    "\n",
    "\n",
    "# get the Tfidf for test data\n",
    "X_test_tfidf = vectorizer.transform(X_test)\n",
    "\n",
    "# visualize Tfidf\n",
    "test_data_tfidf = pd.DataFrame(data=X_train_tfidf.toarray(), columns=vectorizer.get_feature_names_out()).T\n",
    "\n",
    "# display the last few rows of the dataframe\n",
    "train_data_tfidf.head(5)"
   ]
  },
  {
   "cell_type": "markdown",
   "id": "c3441fac",
   "metadata": {},
   "source": [
    "## Task 3: Model Training\n",
    "\n",
    "Define 3 Logistic Regression models: *model1, model2* and *model3* and train the models as follows:\n",
    "- Train the first Logistic Regression model using the Bag of Words representation (train_data_BOW) to predict the hotel rating (Y).\n",
    "\n",
    "- Train the second Logistic Regression model using the TfIdf representation (train_data_tfidf) to predict the hotel rating (Y).\n",
    "\n",
    "- Train the third Logistic Regression model using the TfIdf representation (train_data_tfidf) to predict the binary sentiment label (Y_binary). \n",
    "\n",
    "- Make and store predictions on appropriate test sets (X_test_BOW for model1 and X_test_tfidf for model2 and model3)"
   ]
  },
  {
   "cell_type": "code",
   "execution_count": 22,
   "id": "af6007d5",
   "metadata": {},
   "outputs": [
    {
     "data": {
      "text/html": [
       "<style>#sk-container-id-1 {color: black;}#sk-container-id-1 pre{padding: 0;}#sk-container-id-1 div.sk-toggleable {background-color: white;}#sk-container-id-1 label.sk-toggleable__label {cursor: pointer;display: block;width: 100%;margin-bottom: 0;padding: 0.3em;box-sizing: border-box;text-align: center;}#sk-container-id-1 label.sk-toggleable__label-arrow:before {content: \"▸\";float: left;margin-right: 0.25em;color: #696969;}#sk-container-id-1 label.sk-toggleable__label-arrow:hover:before {color: black;}#sk-container-id-1 div.sk-estimator:hover label.sk-toggleable__label-arrow:before {color: black;}#sk-container-id-1 div.sk-toggleable__content {max-height: 0;max-width: 0;overflow: hidden;text-align: left;background-color: #f0f8ff;}#sk-container-id-1 div.sk-toggleable__content pre {margin: 0.2em;color: black;border-radius: 0.25em;background-color: #f0f8ff;}#sk-container-id-1 input.sk-toggleable__control:checked~div.sk-toggleable__content {max-height: 200px;max-width: 100%;overflow: auto;}#sk-container-id-1 input.sk-toggleable__control:checked~label.sk-toggleable__label-arrow:before {content: \"▾\";}#sk-container-id-1 div.sk-estimator input.sk-toggleable__control:checked~label.sk-toggleable__label {background-color: #d4ebff;}#sk-container-id-1 div.sk-label input.sk-toggleable__control:checked~label.sk-toggleable__label {background-color: #d4ebff;}#sk-container-id-1 input.sk-hidden--visually {border: 0;clip: rect(1px 1px 1px 1px);clip: rect(1px, 1px, 1px, 1px);height: 1px;margin: -1px;overflow: hidden;padding: 0;position: absolute;width: 1px;}#sk-container-id-1 div.sk-estimator {font-family: monospace;background-color: #f0f8ff;border: 1px dotted black;border-radius: 0.25em;box-sizing: border-box;margin-bottom: 0.5em;}#sk-container-id-1 div.sk-estimator:hover {background-color: #d4ebff;}#sk-container-id-1 div.sk-parallel-item::after {content: \"\";width: 100%;border-bottom: 1px solid gray;flex-grow: 1;}#sk-container-id-1 div.sk-label:hover label.sk-toggleable__label {background-color: #d4ebff;}#sk-container-id-1 div.sk-serial::before {content: \"\";position: absolute;border-left: 1px solid gray;box-sizing: border-box;top: 0;bottom: 0;left: 50%;z-index: 0;}#sk-container-id-1 div.sk-serial {display: flex;flex-direction: column;align-items: center;background-color: white;padding-right: 0.2em;padding-left: 0.2em;position: relative;}#sk-container-id-1 div.sk-item {position: relative;z-index: 1;}#sk-container-id-1 div.sk-parallel {display: flex;align-items: stretch;justify-content: center;background-color: white;position: relative;}#sk-container-id-1 div.sk-item::before, #sk-container-id-1 div.sk-parallel-item::before {content: \"\";position: absolute;border-left: 1px solid gray;box-sizing: border-box;top: 0;bottom: 0;left: 50%;z-index: -1;}#sk-container-id-1 div.sk-parallel-item {display: flex;flex-direction: column;z-index: 1;position: relative;background-color: white;}#sk-container-id-1 div.sk-parallel-item:first-child::after {align-self: flex-end;width: 50%;}#sk-container-id-1 div.sk-parallel-item:last-child::after {align-self: flex-start;width: 50%;}#sk-container-id-1 div.sk-parallel-item:only-child::after {width: 0;}#sk-container-id-1 div.sk-dashed-wrapped {border: 1px dashed gray;margin: 0 0.4em 0.5em 0.4em;box-sizing: border-box;padding-bottom: 0.4em;background-color: white;}#sk-container-id-1 div.sk-label label {font-family: monospace;font-weight: bold;display: inline-block;line-height: 1.2em;}#sk-container-id-1 div.sk-label-container {text-align: center;}#sk-container-id-1 div.sk-container {/* jupyter's `normalize.less` sets `[hidden] { display: none; }` but bootstrap.min.css set `[hidden] { display: none !important; }` so we also need the `!important` here to be able to override the default hidden behavior on the sphinx rendered scikit-learn.org. See: https://github.com/scikit-learn/scikit-learn/issues/21755 */display: inline-block !important;position: relative;}#sk-container-id-1 div.sk-text-repr-fallback {display: none;}</style><div id=\"sk-container-id-1\" class=\"sk-top-container\"><div class=\"sk-text-repr-fallback\"><pre>LogisticRegression(random_state=RandomState(MT19937) at 0x7FFF5C8BD540)</pre><b>In a Jupyter environment, please rerun this cell to show the HTML representation or trust the notebook. <br />On GitHub, the HTML representation is unable to render, please try loading this page with nbviewer.org.</b></div><div class=\"sk-container\" hidden><div class=\"sk-item\"><div class=\"sk-estimator sk-toggleable\"><input class=\"sk-toggleable__control sk-hidden--visually\" id=\"sk-estimator-id-1\" type=\"checkbox\" checked><label for=\"sk-estimator-id-1\" class=\"sk-toggleable__label sk-toggleable__label-arrow\">LogisticRegression</label><div class=\"sk-toggleable__content\"><pre>LogisticRegression(random_state=RandomState(MT19937) at 0x7FFF5C8BD540)</pre></div></div></div></div></div>"
      ],
      "text/plain": [
       "LogisticRegression(random_state=RandomState(MT19937) at 0x7FFF5C8BD540)"
      ]
     },
     "execution_count": 22,
     "metadata": {},
     "output_type": "execute_result"
    }
   ],
   "source": [
    "from sklearn.linear_model import LogisticRegression\n",
    "\n",
    "# Provide your answers here\n",
    "\n",
    "# define lgositic regression model1 object\n",
    "log_reg1 = LogisticRegression(random_state=random_state)\n",
    "\n",
    "# fit the model to training data\n",
    "log_reg1.fit(X_train_BOW, y_train)"
   ]
  },
  {
   "cell_type": "code",
   "execution_count": 23,
   "id": "2efb4b09",
   "metadata": {},
   "outputs": [
    {
     "data": {
      "text/plain": [
       "array([2, 1, 5, ..., 5, 4, 5])"
      ]
     },
     "execution_count": 23,
     "metadata": {},
     "output_type": "execute_result"
    }
   ],
   "source": [
    "# predict using log_reg object\n",
    "y_test_log_reg1_predictions = log_reg1.predict(X_test_BOW)\n",
    "\n",
    "# view the predictions\n",
    "y_test_log_reg1_predictions"
   ]
  },
  {
   "cell_type": "code",
   "execution_count": 24,
   "id": "49d48de5",
   "metadata": {},
   "outputs": [
    {
     "data": {
      "text/html": [
       "<style>#sk-container-id-2 {color: black;}#sk-container-id-2 pre{padding: 0;}#sk-container-id-2 div.sk-toggleable {background-color: white;}#sk-container-id-2 label.sk-toggleable__label {cursor: pointer;display: block;width: 100%;margin-bottom: 0;padding: 0.3em;box-sizing: border-box;text-align: center;}#sk-container-id-2 label.sk-toggleable__label-arrow:before {content: \"▸\";float: left;margin-right: 0.25em;color: #696969;}#sk-container-id-2 label.sk-toggleable__label-arrow:hover:before {color: black;}#sk-container-id-2 div.sk-estimator:hover label.sk-toggleable__label-arrow:before {color: black;}#sk-container-id-2 div.sk-toggleable__content {max-height: 0;max-width: 0;overflow: hidden;text-align: left;background-color: #f0f8ff;}#sk-container-id-2 div.sk-toggleable__content pre {margin: 0.2em;color: black;border-radius: 0.25em;background-color: #f0f8ff;}#sk-container-id-2 input.sk-toggleable__control:checked~div.sk-toggleable__content {max-height: 200px;max-width: 100%;overflow: auto;}#sk-container-id-2 input.sk-toggleable__control:checked~label.sk-toggleable__label-arrow:before {content: \"▾\";}#sk-container-id-2 div.sk-estimator input.sk-toggleable__control:checked~label.sk-toggleable__label {background-color: #d4ebff;}#sk-container-id-2 div.sk-label input.sk-toggleable__control:checked~label.sk-toggleable__label {background-color: #d4ebff;}#sk-container-id-2 input.sk-hidden--visually {border: 0;clip: rect(1px 1px 1px 1px);clip: rect(1px, 1px, 1px, 1px);height: 1px;margin: -1px;overflow: hidden;padding: 0;position: absolute;width: 1px;}#sk-container-id-2 div.sk-estimator {font-family: monospace;background-color: #f0f8ff;border: 1px dotted black;border-radius: 0.25em;box-sizing: border-box;margin-bottom: 0.5em;}#sk-container-id-2 div.sk-estimator:hover {background-color: #d4ebff;}#sk-container-id-2 div.sk-parallel-item::after {content: \"\";width: 100%;border-bottom: 1px solid gray;flex-grow: 1;}#sk-container-id-2 div.sk-label:hover label.sk-toggleable__label {background-color: #d4ebff;}#sk-container-id-2 div.sk-serial::before {content: \"\";position: absolute;border-left: 1px solid gray;box-sizing: border-box;top: 0;bottom: 0;left: 50%;z-index: 0;}#sk-container-id-2 div.sk-serial {display: flex;flex-direction: column;align-items: center;background-color: white;padding-right: 0.2em;padding-left: 0.2em;position: relative;}#sk-container-id-2 div.sk-item {position: relative;z-index: 1;}#sk-container-id-2 div.sk-parallel {display: flex;align-items: stretch;justify-content: center;background-color: white;position: relative;}#sk-container-id-2 div.sk-item::before, #sk-container-id-2 div.sk-parallel-item::before {content: \"\";position: absolute;border-left: 1px solid gray;box-sizing: border-box;top: 0;bottom: 0;left: 50%;z-index: -1;}#sk-container-id-2 div.sk-parallel-item {display: flex;flex-direction: column;z-index: 1;position: relative;background-color: white;}#sk-container-id-2 div.sk-parallel-item:first-child::after {align-self: flex-end;width: 50%;}#sk-container-id-2 div.sk-parallel-item:last-child::after {align-self: flex-start;width: 50%;}#sk-container-id-2 div.sk-parallel-item:only-child::after {width: 0;}#sk-container-id-2 div.sk-dashed-wrapped {border: 1px dashed gray;margin: 0 0.4em 0.5em 0.4em;box-sizing: border-box;padding-bottom: 0.4em;background-color: white;}#sk-container-id-2 div.sk-label label {font-family: monospace;font-weight: bold;display: inline-block;line-height: 1.2em;}#sk-container-id-2 div.sk-label-container {text-align: center;}#sk-container-id-2 div.sk-container {/* jupyter's `normalize.less` sets `[hidden] { display: none; }` but bootstrap.min.css set `[hidden] { display: none !important; }` so we also need the `!important` here to be able to override the default hidden behavior on the sphinx rendered scikit-learn.org. See: https://github.com/scikit-learn/scikit-learn/issues/21755 */display: inline-block !important;position: relative;}#sk-container-id-2 div.sk-text-repr-fallback {display: none;}</style><div id=\"sk-container-id-2\" class=\"sk-top-container\"><div class=\"sk-text-repr-fallback\"><pre>LogisticRegression(random_state=RandomState(MT19937) at 0x7FFF5C8BD540)</pre><b>In a Jupyter environment, please rerun this cell to show the HTML representation or trust the notebook. <br />On GitHub, the HTML representation is unable to render, please try loading this page with nbviewer.org.</b></div><div class=\"sk-container\" hidden><div class=\"sk-item\"><div class=\"sk-estimator sk-toggleable\"><input class=\"sk-toggleable__control sk-hidden--visually\" id=\"sk-estimator-id-2\" type=\"checkbox\" checked><label for=\"sk-estimator-id-2\" class=\"sk-toggleable__label sk-toggleable__label-arrow\">LogisticRegression</label><div class=\"sk-toggleable__content\"><pre>LogisticRegression(random_state=RandomState(MT19937) at 0x7FFF5C8BD540)</pre></div></div></div></div></div>"
      ],
      "text/plain": [
       "LogisticRegression(random_state=RandomState(MT19937) at 0x7FFF5C8BD540)"
      ]
     },
     "execution_count": 24,
     "metadata": {},
     "output_type": "execute_result"
    }
   ],
   "source": [
    "# define lgositic regression model2 object\n",
    "log_reg2 = LogisticRegression(random_state=random_state)\n",
    "\n",
    "# fit the model to training data\n",
    "log_reg2.fit(X_train_tfidf, y_train)"
   ]
  },
  {
   "cell_type": "code",
   "execution_count": 25,
   "id": "af37b3fa",
   "metadata": {},
   "outputs": [
    {
     "data": {
      "text/plain": [
       "array([2, 4, 5, ..., 5, 4, 5])"
      ]
     },
     "execution_count": 25,
     "metadata": {},
     "output_type": "execute_result"
    }
   ],
   "source": [
    "# make prediction on test data\n",
    "\n",
    "# predict using log_reg object\n",
    "y_test_log_reg2_predictions = log_reg2.predict(X_test_tfidf)\n",
    "\n",
    "# view the predictions\n",
    "y_test_log_reg2_predictions"
   ]
  },
  {
   "cell_type": "code",
   "execution_count": 26,
   "id": "9bd38b77",
   "metadata": {},
   "outputs": [
    {
     "data": {
      "text/html": [
       "<style>#sk-container-id-3 {color: black;}#sk-container-id-3 pre{padding: 0;}#sk-container-id-3 div.sk-toggleable {background-color: white;}#sk-container-id-3 label.sk-toggleable__label {cursor: pointer;display: block;width: 100%;margin-bottom: 0;padding: 0.3em;box-sizing: border-box;text-align: center;}#sk-container-id-3 label.sk-toggleable__label-arrow:before {content: \"▸\";float: left;margin-right: 0.25em;color: #696969;}#sk-container-id-3 label.sk-toggleable__label-arrow:hover:before {color: black;}#sk-container-id-3 div.sk-estimator:hover label.sk-toggleable__label-arrow:before {color: black;}#sk-container-id-3 div.sk-toggleable__content {max-height: 0;max-width: 0;overflow: hidden;text-align: left;background-color: #f0f8ff;}#sk-container-id-3 div.sk-toggleable__content pre {margin: 0.2em;color: black;border-radius: 0.25em;background-color: #f0f8ff;}#sk-container-id-3 input.sk-toggleable__control:checked~div.sk-toggleable__content {max-height: 200px;max-width: 100%;overflow: auto;}#sk-container-id-3 input.sk-toggleable__control:checked~label.sk-toggleable__label-arrow:before {content: \"▾\";}#sk-container-id-3 div.sk-estimator input.sk-toggleable__control:checked~label.sk-toggleable__label {background-color: #d4ebff;}#sk-container-id-3 div.sk-label input.sk-toggleable__control:checked~label.sk-toggleable__label {background-color: #d4ebff;}#sk-container-id-3 input.sk-hidden--visually {border: 0;clip: rect(1px 1px 1px 1px);clip: rect(1px, 1px, 1px, 1px);height: 1px;margin: -1px;overflow: hidden;padding: 0;position: absolute;width: 1px;}#sk-container-id-3 div.sk-estimator {font-family: monospace;background-color: #f0f8ff;border: 1px dotted black;border-radius: 0.25em;box-sizing: border-box;margin-bottom: 0.5em;}#sk-container-id-3 div.sk-estimator:hover {background-color: #d4ebff;}#sk-container-id-3 div.sk-parallel-item::after {content: \"\";width: 100%;border-bottom: 1px solid gray;flex-grow: 1;}#sk-container-id-3 div.sk-label:hover label.sk-toggleable__label {background-color: #d4ebff;}#sk-container-id-3 div.sk-serial::before {content: \"\";position: absolute;border-left: 1px solid gray;box-sizing: border-box;top: 0;bottom: 0;left: 50%;z-index: 0;}#sk-container-id-3 div.sk-serial {display: flex;flex-direction: column;align-items: center;background-color: white;padding-right: 0.2em;padding-left: 0.2em;position: relative;}#sk-container-id-3 div.sk-item {position: relative;z-index: 1;}#sk-container-id-3 div.sk-parallel {display: flex;align-items: stretch;justify-content: center;background-color: white;position: relative;}#sk-container-id-3 div.sk-item::before, #sk-container-id-3 div.sk-parallel-item::before {content: \"\";position: absolute;border-left: 1px solid gray;box-sizing: border-box;top: 0;bottom: 0;left: 50%;z-index: -1;}#sk-container-id-3 div.sk-parallel-item {display: flex;flex-direction: column;z-index: 1;position: relative;background-color: white;}#sk-container-id-3 div.sk-parallel-item:first-child::after {align-self: flex-end;width: 50%;}#sk-container-id-3 div.sk-parallel-item:last-child::after {align-self: flex-start;width: 50%;}#sk-container-id-3 div.sk-parallel-item:only-child::after {width: 0;}#sk-container-id-3 div.sk-dashed-wrapped {border: 1px dashed gray;margin: 0 0.4em 0.5em 0.4em;box-sizing: border-box;padding-bottom: 0.4em;background-color: white;}#sk-container-id-3 div.sk-label label {font-family: monospace;font-weight: bold;display: inline-block;line-height: 1.2em;}#sk-container-id-3 div.sk-label-container {text-align: center;}#sk-container-id-3 div.sk-container {/* jupyter's `normalize.less` sets `[hidden] { display: none; }` but bootstrap.min.css set `[hidden] { display: none !important; }` so we also need the `!important` here to be able to override the default hidden behavior on the sphinx rendered scikit-learn.org. See: https://github.com/scikit-learn/scikit-learn/issues/21755 */display: inline-block !important;position: relative;}#sk-container-id-3 div.sk-text-repr-fallback {display: none;}</style><div id=\"sk-container-id-3\" class=\"sk-top-container\"><div class=\"sk-text-repr-fallback\"><pre>LogisticRegression(random_state=RandomState(MT19937) at 0x7FFF5C8BD540)</pre><b>In a Jupyter environment, please rerun this cell to show the HTML representation or trust the notebook. <br />On GitHub, the HTML representation is unable to render, please try loading this page with nbviewer.org.</b></div><div class=\"sk-container\" hidden><div class=\"sk-item\"><div class=\"sk-estimator sk-toggleable\"><input class=\"sk-toggleable__control sk-hidden--visually\" id=\"sk-estimator-id-3\" type=\"checkbox\" checked><label for=\"sk-estimator-id-3\" class=\"sk-toggleable__label sk-toggleable__label-arrow\">LogisticRegression</label><div class=\"sk-toggleable__content\"><pre>LogisticRegression(random_state=RandomState(MT19937) at 0x7FFF5C8BD540)</pre></div></div></div></div></div>"
      ],
      "text/plain": [
       "LogisticRegression(random_state=RandomState(MT19937) at 0x7FFF5C8BD540)"
      ]
     },
     "execution_count": 26,
     "metadata": {},
     "output_type": "execute_result"
    }
   ],
   "source": [
    "# define logsitic regression model3 object\n",
    "log_reg3 = LogisticRegression(random_state=random_state)\n",
    "\n",
    "# fit the model to training data\n",
    "log_reg3.fit(X_train_tfidf, y_train_binary)"
   ]
  },
  {
   "cell_type": "code",
   "execution_count": 27,
   "id": "487cbfdb",
   "metadata": {},
   "outputs": [
    {
     "data": {
      "text/plain": [
       "array([-1, -1,  1, ...,  1,  1,  1])"
      ]
     },
     "execution_count": 27,
     "metadata": {},
     "output_type": "execute_result"
    }
   ],
   "source": [
    "# make prediction on test data\n",
    "\n",
    "# predict using log_reg object\n",
    "y_test_log_reg3_predictions = log_reg3.predict(X_test_tfidf)\n",
    "\n",
    "# view the predictions\n",
    "y_test_log_reg3_predictions"
   ]
  },
  {
   "cell_type": "markdown",
   "id": "9f37e686",
   "metadata": {},
   "source": [
    "\n",
    "## Task 4: Model Evaluation\n",
    "\n",
    "- Compute and compare the test accuracy of Model 1 (Logistic Regression with BoW representation) and Model 2 (Logistic Regression with TfIdf representation). Based on your results, determine which embedding method yields higher performance in predicting the hotel ratings (Y)."
   ]
  },
  {
   "cell_type": "code",
   "execution_count": 28,
   "id": "09217a19",
   "metadata": {},
   "outputs": [
    {
     "data": {
      "text/plain": [
       "0.5655497722836695"
      ]
     },
     "execution_count": 28,
     "metadata": {},
     "output_type": "execute_result"
    }
   ],
   "source": [
    "from sklearn.metrics import accuracy_score\n",
    "\n",
    "# Provide your answers here\n",
    "accuracy_score(y_test, y_test_log_reg1_predictions)"
   ]
  },
  {
   "cell_type": "code",
   "execution_count": 29,
   "id": "3be907ef",
   "metadata": {},
   "outputs": [
    {
     "data": {
      "text/plain": [
       "0.6032856213402733"
      ]
     },
     "execution_count": 29,
     "metadata": {},
     "output_type": "execute_result"
    }
   ],
   "source": [
    "accuracy_score(y_test, y_test_log_reg2_predictions)"
   ]
  },
  {
   "cell_type": "markdown",
   "id": "b63da04b",
   "metadata": {},
   "source": [
    "Based on the the results of the test accuracy of both the models, it can be determined that the model1 has a lower accuracy score of ~57% and the accuracy score of model2 is ~60%. Based on these results, model2 has a higher accuracy which means that the Tfidf representation embedding method yields higher performance in predicting the hotel ratings."
   ]
  },
  {
   "cell_type": "markdown",
   "id": "78c38179",
   "metadata": {},
   "source": [
    "- Compute and compare the test accuracy of Model 2 and Model 3. Based on your results, analyze which task is easier: binary sentiment prediction or multi-class rating prediction."
   ]
  },
  {
   "cell_type": "code",
   "execution_count": 30,
   "id": "a383feec",
   "metadata": {},
   "outputs": [
    {
     "data": {
      "text/plain": [
       "0.6032856213402733"
      ]
     },
     "execution_count": 30,
     "metadata": {},
     "output_type": "execute_result"
    }
   ],
   "source": [
    "# Provide your answers here\n",
    "accuracy_score(y_test, y_test_log_reg2_predictions)"
   ]
  },
  {
   "cell_type": "code",
   "execution_count": 31,
   "id": "3ca7abfe",
   "metadata": {},
   "outputs": [
    {
     "data": {
      "text/plain": [
       "0.8885816525699415"
      ]
     },
     "execution_count": 31,
     "metadata": {},
     "output_type": "execute_result"
    }
   ],
   "source": [
    "accuracy_score(y_test_binary, y_test_log_reg3_predictions)"
   ]
  },
  {
   "cell_type": "markdown",
   "id": "cae14b63",
   "metadata": {},
   "source": [
    "The results show that the accuracy score for the model3 is ~89%. In comparison to model2 which has an accuracy score of ~60%. Based on these results, the binary sentiment prediction is easier than multi-class rating prediciton as model3 is just predicting between 1 or -1. "
   ]
  },
  {
   "cell_type": "markdown",
   "id": "974df47c",
   "metadata": {},
   "source": [
    "\n",
    "\n",
    "- For Model 2,  compute additional evaluaton measures, namely confusion matrix, precision and recall.  "
   ]
  },
  {
   "cell_type": "code",
   "execution_count": 32,
   "id": "c064f3d6",
   "metadata": {},
   "outputs": [
    {
     "data": {
      "image/png": "[encoded data removed]",
      "text/plain": [
       "<Figure size 640x480 with 2 Axes>"
      ]
     },
     "metadata": {},
     "output_type": "display_data"
    }
   ],
   "source": [
    "from sklearn.metrics import classification_report\n",
    "from sklearn.metrics import ConfusionMatrixDisplay, confusion_matrix\n",
    "\n",
    "# Provide your answers here\n",
    "cm = confusion_matrix(y_test, y_test_log_reg2_predictions)\n",
    "display = ConfusionMatrixDisplay(confusion_matrix=cm, display_labels=log_reg2.classes_)\n",
    "display.plot();"
   ]
  },
  {
   "cell_type": "code",
   "execution_count": 33,
   "id": "29950448",
   "metadata": {},
   "outputs": [
    {
     "name": "stdout",
     "output_type": "stream",
     "text": [
      "              precision    recall  f1-score   support\n",
      "\n",
      "           1       0.67      0.64      0.66       405\n",
      "           2       0.43      0.34      0.38       536\n",
      "           3       0.42      0.21      0.28       708\n",
      "           4       0.50      0.51      0.50      1823\n",
      "           5       0.70      0.82      0.76      2676\n",
      "\n",
      "    accuracy                           0.60      6148\n",
      "   macro avg       0.54      0.50      0.51      6148\n",
      "weighted avg       0.58      0.60      0.59      6148\n",
      "\n"
     ]
    }
   ],
   "source": [
    "from sklearn.metrics import classification_report\n",
    "\n",
    "print(classification_report(y_test, y_test_log_reg2_predictions))"
   ]
  },
  {
   "cell_type": "markdown",
   "id": "6bc18db7",
   "metadata": {},
   "source": [
    "The above shows the precision and recall for each of the labels. In order to balance the precision and recall scores for the model, the f1 score takes into account both the precision and recall. The f1 score for the model is 60%. "
   ]
  },
  {
   "cell_type": "markdown",
   "id": "39c0632f",
   "metadata": {},
   "source": [
    "## Task 5: Model Analysis\n",
    "\n"
   ]
  },
  {
   "cell_type": "markdown",
   "id": "c3dd31d7",
   "metadata": {},
   "source": [
    "- Based on the confusion matrix obtained in the previous question (referring to Model 2, the Logistic Regression with TfIdf representation for rating prediction), identify and state the number of samples that were classified to have the rating of 5 (the highest rating), but in reality, they had an actual rating of 1 (the lowest rating)."
   ]
  },
  {
   "cell_type": "markdown",
   "id": "3e5fd638",
   "metadata": {},
   "source": [
    "The number of samples that were classified to have rating of 5 but in reaity had an actual rating of 1 was 19.\n"
   ]
  },
  {
   "cell_type": "markdown",
   "id": "1c867478",
   "metadata": {},
   "source": [
    "- Discuss the importance of considering alternative evaluation measures, such as precision and recall, instead of relying solely on accuracy. Based on this discussion, identify the most suitable evaluation metric for Model 2."
   ]
  },
  {
   "cell_type": "markdown",
   "id": "a496792b",
   "metadata": {},
   "source": [
    "The importance of considering alternative evaluation measures such as precision and recall instead of just accuracy is because accuracy might not be reliable when there is a large class imbalance. Since the accuracy of model2 was ~60%, the most suitable evaluation metric would be getting the f1 score from the precision and recall of the model."
   ]
  },
  {
   "cell_type": "markdown",
   "id": "ad234f27",
   "metadata": {},
   "source": [
    "\n",
    "- For binary sentiment prediction (Model 3), visualize important words with their model coefficients.  \n",
    "\n",
    "*Tip: you can reuse the function plot_coefficients from prac. session.*"
   ]
  },
  {
   "cell_type": "code",
   "execution_count": 34,
   "id": "9c380cf1",
   "metadata": {},
   "outputs": [],
   "source": [
    "# function adapted from https://aneesha.medium.com/visualising-top-features-in-linear-svm-with-scikit-learn-and-matplotlib-3454ab18a14d\n",
    "def plot_coefficients(classifier, feature_names, top_features=10):\n",
    "    coef = classifier.coef_.ravel()\n",
    "    top_positive_coefficients = np.argsort(coef)[-top_features:]\n",
    "    top_negative_coefficients = np.argsort(coef)[:top_features]\n",
    "    top_coefficients = np.hstack([top_negative_coefficients, top_positive_coefficients])\n",
    "    # create plot\n",
    "    plt.figure(figsize=(15, 5))\n",
    "    colors = ['red' if c < 0 else 'blue' for c in coef[top_coefficients]]\n",
    "    plt.bar(np.arange(2 * top_features), coef[top_coefficients], color=colors)\n",
    "    feature_names = np.array(feature_names)\n",
    "    plt.xticks(np.arange(0, 2 * top_features), feature_names[top_coefficients], rotation=90, ha='right')\n",
    "    plt.xlabel(\"Important Words\")\n",
    "    plt.ylabel(\"Model Coefficient\")\n",
    "    plt.title(\"Important words with their model coefficient\")\n",
    "    plt.show()"
   ]
  },
  {
   "cell_type": "code",
   "execution_count": 35,
   "id": "aaee944f",
   "metadata": {},
   "outputs": [
    {
     "data": {
      "image/png": "[encoded data removed]",
      "text/plain": [
       "<Figure size 1500x500 with 1 Axes>"
      ]
     },
     "metadata": {},
     "output_type": "display_data"
    }
   ],
   "source": [
    "plot_coefficients(log_reg3, vectorizer.get_feature_names_out())"
   ]
  },
  {
   "cell_type": "markdown",
   "id": "868f4d2c",
   "metadata": {},
   "source": [
    "The plot shows 20 words which played important role in making predictions. The red bars show top 10 words with negative model coefficient and blue bars show top 10 words with positive model coefficient values."
   ]
  }
 ],
 "metadata": {
  "kernelspec": {
   "display_name": "Python 3 (ipykernel)",
   "language": "python",
   "name": "python3"
  },
  "language_info": {
   "codemirror_mode": {
    "name": "ipython",
    "version": 3
   },
   "file_extension": ".py",
   "mimetype": "text/x-python",
   "name": "python",
   "nbconvert_exporter": "python",
   "pygments_lexer": "ipython3",
   "version": "3.11.4"
  }
 },
 "nbformat": 4,
 "nbformat_minor": 5
}
